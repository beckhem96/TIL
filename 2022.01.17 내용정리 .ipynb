{
 "cells": [
  {
   "cell_type": "markdown",
   "metadata": {},
   "source": [
    "- 변수 - 컴퓨터 메모리 어딘가에 저장되어 있는 객체를 참조하기 위해 사용되는 이름\n",
    "- 객체 - 숫자, 문자, 클래스 등 값을 가지고 있는 모든것\n",
    "- 파이썬은 객체지향 언어, 모든 것이 객체로 구성\n",
    "- 참조하는 객체가 바뀔 수 있기 때문에 변수라고 불림"
   ]
  },
  {
   "cell_type": "code",
   "execution_count": 2,
   "metadata": {},
   "outputs": [
    {
     "name": "stdout",
     "output_type": "stream",
     "text": [
      "1004 1004\n",
      "1 2\n"
     ]
    }
   ],
   "source": [
    "#같읍 값을 동시에 할당 할 수 있음\n",
    "x = y = 1004\n",
    "print(x, y)\n",
    "# 다른 값을 동시에 할당 할 수 있음\n",
    "x, y = 1, 2\n",
    "print(x, y)"
   ]
  },
  {
   "cell_type": "code",
   "execution_count": 4,
   "metadata": {},
   "outputs": [
    {
     "name": "stdout",
     "output_type": "stream",
     "text": [
      "1 2\n",
      "20 10\n"
     ]
    }
   ],
   "source": [
    "# 방법 1\n",
    "tmp = x\n",
    "x = y\n",
    "y = tmp\n",
    "print(x, y)\n",
    "# 방법 2\n",
    "x, y = 10, 20\n",
    "y, x, = x, y\n",
    "print(x, y)"
   ]
  },
  {
   "cell_type": "code",
   "execution_count": 5,
   "metadata": {},
   "outputs": [
    {
     "name": "stdout",
     "output_type": "stream",
     "text": [
      "이름 : 임완택\n",
      "임완택\n",
      "<class 'str'>\n"
     ]
    }
   ],
   "source": [
    "# \n",
    "name = input('이름 : ')\n",
    "print(name)\n",
    "print(type(name))"
   ]
  },
  {
   "cell_type": "markdown",
   "metadata": {},
   "source": [
    "- 주석다는 습관이 중요\n",
    "- 쉬운 이해와 코드의 분석 및 수정이 용이"
   ]
  },
  {
   "cell_type": "code",
   "execution_count": 6,
   "metadata": {},
   "outputs": [
    {
     "name": "stdout",
     "output_type": "stream",
     "text": [
      "False False True False True True\n"
     ]
    }
   ],
   "source": [
    "# boolean\n",
    "print(bool(0), bool(''), bool(1), bool([]), bool(-1), bool([1, 2, 3]) )"
   ]
  },
  {
   "cell_type": "code",
   "execution_count": 8,
   "metadata": {},
   "outputs": [
    {
     "name": "stdout",
     "output_type": "stream",
     "text": [
      "2\n",
      "24\n",
      "16\n"
     ]
    }
   ],
   "source": [
    "#모든 정수의 타입은 int\n",
    "# 2진수:ob\n",
    "print(0b10)\n",
    "# 8진수:0o\n",
    "print(0o30)\n",
    "# 16진수:0x\n",
    "print(0x10)"
   ]
  },
  {
   "cell_type": "markdown",
   "metadata": {},
   "source": [
    "- 모든 문자는 str\n",
    "- ' '쓰거나 \" \"쓰거나 하나만\n",
    "- 문자열은 immuatable\n",
    "- interable"
   ]
  },
  {
   "cell_type": "markdown",
   "metadata": {},
   "source": [
    "- 리스트 \n",
    "- 순서를 가지는 0개 이상의 객체를 참조하는 자료형\n",
    "- 가변자료형\n",
    "- [ ]형태"
   ]
  },
  {
   "cell_type": "markdown",
   "metadata": {},
   "source": [
    "- 튜플\n",
    "- 순서를 가지는 0개 이상의 객체를 참조하는 자료형\n",
    "- 불변 자료형\n",
    "- ( ) 형태"
   ]
  },
  {
   "cell_type": "code",
   "execution_count": null,
   "metadata": {},
   "outputs": [],
   "source": []
  },
  {
   "cell_type": "code",
   "execution_count": 2,
   "metadata": {},
   "outputs": [],
   "source": [
    "# h누르면 단축키 나옴"
   ]
  },
  {
   "cell_type": "code",
   "execution_count": null,
   "metadata": {},
   "outputs": [],
   "source": [
    "단축키\n",
    "\n",
    "dd : delete(셀 삭제)"
   ]
  },
  {
   "cell_type": "markdown",
   "metadata": {},
   "source": [
    "### 430 - 600\n",
    "# 홀수 짝수 판별"
   ]
  },
  {
   "cell_type": "code",
   "execution_count": 3,
   "metadata": {},
   "outputs": [],
   "source": [
    "num=10"
   ]
  },
  {
   "cell_type": "code",
   "execution_count": 15,
   "metadata": {},
   "outputs": [
    {
     "name": "stdout",
     "output_type": "stream",
     "text": [
      "10는 짝수입니다.\n"
     ]
    }
   ],
   "source": [
    "if (num % 2) == 0:\n",
    "    print(f'{i}는 짝수입니다.')\n",
    "else:\n",
    "    print(f'{i}는 홀수입니다.')\n",
    "        "
   ]
  },
  {
   "cell_type": "markdown",
   "metadata": {},
   "source": [
    "# 1부터 10까지를 출력"
   ]
  },
  {
   "cell_type": "code",
   "execution_count": 7,
   "metadata": {},
   "outputs": [],
   "source": [
    "n = 10"
   ]
  },
  {
   "cell_type": "code",
   "execution_count": 14,
   "metadata": {},
   "outputs": [
    {
     "name": "stdout",
     "output_type": "stream",
     "text": [
      "1\n",
      "2\n",
      "3\n",
      "4\n",
      "5\n",
      "6\n",
      "7\n",
      "8\n",
      "9\n",
      "10\n"
     ]
    }
   ],
   "source": [
    "for i in range(1, n+1):\n",
    "    print(i)"
   ]
  },
  {
   "cell_type": "code",
   "execution_count": null,
   "metadata": {},
   "outputs": [],
   "source": []
  }
 ],
 "metadata": {
  "kernelspec": {
   "display_name": "Python 3",
   "language": "python",
   "name": "python3"
  },
  "language_info": {
   "codemirror_mode": {
    "name": "ipython",
    "version": 3
   },
   "file_extension": ".py",
   "mimetype": "text/x-python",
   "name": "python",
   "nbconvert_exporter": "python",
   "pygments_lexer": "ipython3",
   "version": "3.7.4"
  },
  "toc": {
   "base_numbering": 1,
   "nav_menu": {},
   "number_sections": true,
   "sideBar": true,
   "skip_h1_title": false,
   "title_cell": "Table of Contents",
   "title_sidebar": "Contents",
   "toc_cell": false,
   "toc_position": {},
   "toc_section_display": true,
   "toc_window_display": false
  }
 },
 "nbformat": 4,
 "nbformat_minor": 2
}

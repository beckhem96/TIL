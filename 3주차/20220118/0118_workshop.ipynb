{
 "cells": [
  {
   "cell_type": "markdown",
   "metadata": {},
   "source": [
    "# 간단한 N의 약수"
   ]
  },
  {
   "cell_type": "code",
   "execution_count": 12,
   "metadata": {},
   "outputs": [
    {
     "name": "stdout",
     "output_type": "stream",
     "text": [
      "-1\n",
      "1과 1000사이의 수를 입력해주세요\n",
      "[]\n"
     ]
    }
   ],
   "source": [
    "divisor_list = []\n",
    "N = int(input())\n",
    "if N < 1:\n",
    "    print('1과 1000사이의 수를 입력해주세요')\n",
    "elif N > 1000:\n",
    "    print('1과 1000사이의 수를 입력해주세요')\n",
    "else:\n",
    "    for i in range(1, N+1):\n",
    "        if N % i == 0:\n",
    "            divisor_list.append(i)\n",
    "print(divisor_list)"
   ]
  },
  {
   "cell_type": "markdown",
   "metadata": {},
   "source": [
    "# 중간값 찾기(못품)"
   ]
  },
  {
   "cell_type": "code",
   "execution_count": 34,
   "metadata": {},
   "outputs": [
    {
     "name": "stdout",
     "output_type": "stream",
     "text": [
      "64\n"
     ]
    }
   ],
   "source": [
    "numbers = [\n",
    "    85, 72, 38, 80, 69, 65, 68, 96, 22, 49, 67,\n",
    "    51, 61, 63, 87, 66, 24, 80, 83, 71, 60, 64,\n",
    "    52, 90, 60, 49, 31, 23, 99, 94, 11, 25, 24\n",
    "]\n",
    "\n",
    "# 동기님 코드\n",
    "numbers_sort = sorted(numbers)\n",
    "print(numbers_sort[int(len(numbers_sort) / 2)])"
   ]
  },
  {
   "cell_type": "markdown",
   "metadata": {},
   "source": [
    "# 계단 만들기"
   ]
  },
  {
   "cell_type": "code",
   "execution_count": 29,
   "metadata": {},
   "outputs": [
    {
     "name": "stdout",
     "output_type": "stream",
     "text": [
      "4\n",
      "1 \n",
      "1 2 \n",
      "1 2 3 \n",
      "1 2 3 4 \n"
     ]
    }
   ],
   "source": [
    "number = int(input())\n",
    "\n",
    "for i in range(1, number+1):\n",
    "    for j in range(1, i+1):\n",
    "        print(f'{j} ' , end='')\n",
    "    print()"
   ]
  }
 ],
 "metadata": {
  "kernelspec": {
   "display_name": "Python 3",
   "language": "python",
   "name": "python3"
  },
  "language_info": {
   "codemirror_mode": {
    "name": "ipython",
    "version": 3
   },
   "file_extension": ".py",
   "mimetype": "text/x-python",
   "name": "python",
   "nbconvert_exporter": "python",
   "pygments_lexer": "ipython3",
   "version": "3.7.4"
  },
  "toc": {
   "base_numbering": 1,
   "nav_menu": {},
   "number_sections": true,
   "sideBar": true,
   "skip_h1_title": false,
   "title_cell": "Table of Contents",
   "title_sidebar": "Contents",
   "toc_cell": false,
   "toc_position": {},
   "toc_section_display": true,
   "toc_window_display": false
  }
 },
 "nbformat": 4,
 "nbformat_minor": 2
}

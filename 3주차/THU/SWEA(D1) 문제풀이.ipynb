{
 "cells": [
  {
   "cell_type": "code",
   "execution_count": 3,
   "metadata": {},
   "outputs": [
    {
     "name": "stdout",
     "output_type": "stream",
     "text": [
      "테스트케이스 수:3\n",
      "10개의 수를 입력해주세요:3 17 1 39 8 41 2 32 99 2\n",
      "#1 200\n",
      "10개의 수를 입력해주세요:22 8 5 123 7 2 63 7 3 46\n",
      "#2 208\n",
      "10개의 수를 입력해주세요:6 63 2 3 58 76 21 33 8 1\n",
      "#3 121\n"
     ]
    }
   ],
   "source": [
    "    # 홀수만 더하기\n",
    "    T = int(input('테스트케이스 수:'))\n",
    "    for i in range(T): # 테스트 케이스 만큼 반복\n",
    "        test_case = []\n",
    "        odd_sum = 0\n",
    "        test_case = input('10개의 수를 입력해주세요:') # 10개 입력\n",
    "\n",
    "        num_split = test_case.split(' ') # \n",
    "\n",
    "        for j in range(len(num_split)):\n",
    "            if (int(num_split[j]) % 2) == 1:\n",
    "                odd_sum += int(num_split[j])\n",
    "            else:\n",
    "                pass\n",
    "        print(f'#{i+1} {odd_sum}')"
   ]
  }
 ],
 "metadata": {
  "kernelspec": {
   "display_name": "Python 3",
   "language": "python",
   "name": "python3"
  },
  "language_info": {
   "codemirror_mode": {
    "name": "ipython",
    "version": 3
   },
   "file_extension": ".py",
   "mimetype": "text/x-python",
   "name": "python",
   "nbconvert_exporter": "python",
   "pygments_lexer": "ipython3",
   "version": "3.7.4"
  },
  "toc": {
   "base_numbering": 1,
   "nav_menu": {},
   "number_sections": true,
   "sideBar": true,
   "skip_h1_title": false,
   "title_cell": "Table of Contents",
   "title_sidebar": "Contents",
   "toc_cell": false,
   "toc_position": {},
   "toc_section_display": true,
   "toc_window_display": false
  }
 },
 "nbformat": 4,
 "nbformat_minor": 2
}
